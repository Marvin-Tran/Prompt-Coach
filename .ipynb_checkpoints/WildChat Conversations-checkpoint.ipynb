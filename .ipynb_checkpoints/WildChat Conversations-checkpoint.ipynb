{
 "cells": [
  {
   "cell_type": "markdown",
   "id": "07a0b557-0903-4979-a28b-26b5629bb2cf",
   "metadata": {},
   "source": [
    "# How does emotional tone in prompts influence bias in LLM responses?"
   ]
  },
  {
   "cell_type": "markdown",
   "id": "ae4f69be-3243-47de-8597-5d3830dc868d",
   "metadata": {},
   "source": [
    "Dummy text"
   ]
  },
  {
   "cell_type": "code",
   "execution_count": 2,
   "id": "21147c85-f93b-413b-a09b-f6ab2918dd1c",
   "metadata": {},
   "outputs": [],
   "source": [
    "import pandas as pd\n",
    "from datasets import load_dataset\n",
    "ds = load_dataset(\"allenai/WildChat-1M\")"
   ]
  },
  {
   "cell_type": "code",
   "execution_count": 3,
   "id": "eaef27c9-7b7f-4657-b197-9118676239bf",
   "metadata": {},
   "outputs": [],
   "source": [
    "train_dataset = ds['train']\n",
    "conversation_data = []"
   ]
  },
  {
   "cell_type": "code",
   "execution_count": null,
   "id": "7378096b-1df8-481d-865c-ed08cba4fa2a",
   "metadata": {},
   "outputs": [],
   "source": [
    "for conversation in train_dataset['conversation']:\n",
    "    \n",
    "    prompt_count = 0\n",
    "    response_count = 1\n",
    "\n",
    "    for turn in range(int(len(conversation) / 2)):\n",
    "        \n",
    "        if conversation[prompt_count]['language'] == \"English\" and conversation[response_count]['language'] == \"English\":\n",
    "\n",
    "            prompt = conversation[prompt_count]['content']\n",
    "            response = conversation[response_count]['content']\n",
    "            conversation_data.append({'prompt': prompt, 'response': response})\n",
    "\n",
    "            prompt_count += 1\n",
    "            response_count += 1"
   ]
  },
  {
   "cell_type": "code",
   "execution_count": null,
   "id": "5effd097-dc44-4448-b48a-299946282f61",
   "metadata": {},
   "outputs": [],
   "source": [
    "export_df = pd.DataFrame(conversation_data)\n",
    "export_df.to_csv('conversation_data.csv', index=False)"
   ]
  }
 ],
 "metadata": {
  "kernelspec": {
   "display_name": "Python 3 (ipykernel)",
   "language": "python",
   "name": "python3"
  },
  "language_info": {
   "codemirror_mode": {
    "name": "ipython",
    "version": 3
   },
   "file_extension": ".py",
   "mimetype": "text/x-python",
   "name": "python",
   "nbconvert_exporter": "python",
   "pygments_lexer": "ipython3",
   "version": "3.13.3"
  }
 },
 "nbformat": 4,
 "nbformat_minor": 5
}
